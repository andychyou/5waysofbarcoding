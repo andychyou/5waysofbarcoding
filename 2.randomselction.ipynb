{
 "cells": [
  {
   "cell_type": "markdown",
   "metadata": {},
   "source": [
    "Random selection from each frame"
   ]
  },
  {
   "cell_type": "code",
   "execution_count": 26,
   "metadata": {},
   "outputs": [],
   "source": [
    "import numpy as np\n",
    "import cv2\n",
    "import matplotlib.pyplot as plt\n",
    "import imageio\n",
    "import random"
   ]
  },
  {
   "cell_type": "markdown",
   "metadata": {},
   "source": [
    "Import modules"
   ]
  },
  {
   "cell_type": "code",
   "execution_count": 27,
   "metadata": {},
   "outputs": [],
   "source": [
    "def getColor(frame):\n",
    "    height, width, depth = frame.shape\n",
    "    y = random.randint(0, int(height)-1)\n",
    "    x = random.randint(0, int(width)-1)\n",
    "    color = frame[y,x]\n",
    "    return color\n"
   ]
  },
  {
   "cell_type": "markdown",
   "metadata": {},
   "source": [
    "getColor function returns a rgb array of an arbitrary pixel.\n",
    "'frame.shape' gives height, width, depth information.\n",
    "Randint method returns an integer from range [a,b]. Value y and x each represents an arbitrary y, x location of a frame."
   ]
  },
  {
   "cell_type": "code",
   "execution_count": 28,
   "metadata": {},
   "outputs": [],
   "source": [
    "filename='C:\\\\Users\\\\Hanrabong\\\\Desktop\\\\highlight.mp4'\n",
    "cap = cv2.VideoCapture(filename) \n",
    "\n",
    "CList = []"
   ]
  },
  {
   "cell_type": "raw",
   "metadata": {},
   "source": [
    "'filename' is the path of the video.\n",
    "'cv2.VideoCapture()' captures the video and is saved as cap\n",
    "Blank CList is where the colors of each frames will be added"
   ]
  },
  {
   "cell_type": "code",
   "execution_count": 29,
   "metadata": {},
   "outputs": [],
   "source": [
    "while(True): \n",
    "    ret, frame = cap.read()\n",
    "    \n",
    "\n",
    "    if ret == False:\n",
    "        break \n",
    "\n",
    "    CList.append(getColor(frame))\n",
    "\n",
    "cap.release()"
   ]
  },
  {
   "cell_type": "raw",
   "metadata": {},
   "source": [
    "'cap.read()' iterates through cap with a while loop. \n",
    "'ret' returns a boolean value; true if there still is a frame left and false if there aren't any frames left. 'frame' gives a numpy array data of a frame.\n",
    "When ret is false, it ends the loop because there aren't any frames left to iterate.\n",
    "If ret is true, 'getColor(frame)' returns a randomly selected color from the frame and appends it to CList."
   ]
  },
  {
   "cell_type": "code",
   "execution_count": 30,
   "metadata": {},
   "outputs": [],
   "source": [
    "barcode = np.zeros((1000,len(CList),3)) "
   ]
  },
  {
   "cell_type": "raw",
   "metadata": {},
   "source": [
    "'barcode' is a numpy array of a three demensional matrix; 1000 by length of CList a.k.a number of frames by 3 (rgb)."
   ]
  },
  {
   "cell_type": "code",
   "execution_count": 31,
   "metadata": {},
   "outputs": [],
   "source": [
    "for i in range(len(CList)):\n",
    "    barcode[:,i] = CList[i]"
   ]
  },
  {
   "cell_type": "raw",
   "metadata": {},
   "source": [
    "With iteration, value inside 'barcode' numpy array is replaced with color values from CList"
   ]
  },
  {
   "cell_type": "code",
   "execution_count": 32,
   "metadata": {},
   "outputs": [],
   "source": [
    "b, g, r = cv2.split(barcode)   \n",
    "barcode2 = cv2.merge([r,g,b]) \n",
    "barcode2 = barcode2.astype(np.uint8) "
   ]
  },
  {
   "cell_type": "raw",
   "metadata": {},
   "source": [
    "Since opencv runs color arrangement as bgr, an image convertion to rgb has to be made. \n",
    "Therefore using '.split()' we individually take apart the 3 color channels and reconfigure it with an rgb setting, defining it as 'barcode2'. \n",
    "Then a change in data type is needed within the numpy array to uint8 in order to display the output. "
   ]
  },
  {
   "cell_type": "code",
   "execution_count": 33,
   "metadata": {},
   "outputs": [
    {
     "data": {
      "image/png": "[encoded data removed]",
      "text/plain": [
       "<Figure size 432x288 with 1 Axes>"
      ]
     },
     "metadata": {
      "needs_background": "light"
     },
     "output_type": "display_data"
    }
   ],
   "source": [
    "plt.imshow(barcode2)\n",
    "plt.show()\n",
    "\n",
    "imageio.imwrite('highlight_random.png', barcode2)\n",
    "\n",
    "cv2.destroyAllWindows()"
   ]
  },
  {
   "cell_type": "raw",
   "metadata": {},
   "source": [
    "'plt.imshow(barcode2)' and 'plt.show()' pops up the image.\n",
    "The image is saved with imageio"
   ]
  }
 ],
 "metadata": {
  "kernelspec": {
   "display_name": "Python 3",
   "language": "python",
   "name": "python3"
  },
  "language_info": {
   "codemirror_mode": {
    "name": "ipython",
    "version": 3
   },
   "file_extension": ".py",
   "mimetype": "text/x-python",
   "name": "python",
   "nbconvert_exporter": "python",
   "pygments_lexer": "ipython3",
   "version": "3.6.8"
  }
 },
 "nbformat": 4,
 "nbformat_minor": 2
}
