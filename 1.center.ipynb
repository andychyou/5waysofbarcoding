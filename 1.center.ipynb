{
 "cells": [
  {
   "cell_type": "raw",
   "metadata": {},
   "source": [
    "Representitive color == middle"
   ]
  },
  {
   "cell_type": "code",
   "execution_count": 15,
   "metadata": {},
   "outputs": [],
   "source": [
    "import numpy as np\n",
    "import matplotlib.pyplot as plt\n",
    "import cv2\n",
    "import imageio"
   ]
  },
  {
   "cell_type": "raw",
   "metadata": {},
   "source": [
    "Import modules"
   ]
  },
  {
   "cell_type": "code",
   "execution_count": 16,
   "metadata": {},
   "outputs": [],
   "source": [
    "def getColor(frame):\n",
    "    height, width, depth = frame.shape\n",
    "    y = height//2\n",
    "    x = width//2\n",
    "    \n",
    "    color = frame[y, x]\n",
    "    return color"
   ]
  },
  {
   "cell_type": "raw",
   "metadata": {},
   "source": [
    "'getColor(frame)' returns the color value of the frame's dead center.\n",
    "'frame.shape' gives height width depth information of a video.\n",
    "'y','x' are the y and x location of a frame.\n",
    "'frame[y,x]' returns the color value as a numpy arrary."
   ]
  },
  {
   "cell_type": "code",
   "execution_count": 17,
   "metadata": {},
   "outputs": [],
   "source": [
    "file_name='C:\\\\Users\\\\Hanrabong\\\\DESKTOP\\\\highlight.mp4'\n",
    "cap = cv2.VideoCapture(file_name) \n",
    "\n",
    "colors = []"
   ]
  },
  {
   "cell_type": "raw",
   "metadata": {},
   "source": [
    "'filename' is the path of the video.\n",
    "'cv2.VideoCapture()' captures the video and is saved as cap.\n",
    "'colors' is where the colors of each frames will be added."
   ]
  },
  {
   "cell_type": "code",
   "execution_count": 18,
   "metadata": {},
   "outputs": [],
   "source": [
    "while(True):\n",
    "    # Capture frame-by-frame\n",
    "    ret, frame = cap.read()\n",
    "\n",
    "\n",
    "    if ret == False:\n",
    "        break\n",
    "\n",
    "    colors.append(getColor(frame))\n",
    "    "
   ]
  },
  {
   "cell_type": "raw",
   "metadata": {},
   "source": [
    "'cap.read()' iterates through cap with a while loop. \n",
    "'ret' returns a boolean value; true if there still is a frame left and false if there aren't any frames left. 'frame' gives a numpy array data of a frame.\n",
    "When ret is false, it ends the loop because there aren't any frames left to iterate.\n",
    "If ret is true, 'getColor(frame)' appends the value to 'colors'."
   ]
  },
  {
   "cell_type": "code",
   "execution_count": 19,
   "metadata": {},
   "outputs": [],
   "source": [
    "#image \n",
    "barcode = np.zeros((1000,len(colors),3))"
   ]
  },
  {
   "cell_type": "raw",
   "metadata": {},
   "source": [
    "'barcode' is a numpy array of a three demensional matrix; 1000 by length of CList a.k.a number of frames by 3 (rgb)."
   ]
  },
  {
   "cell_type": "code",
   "execution_count": 20,
   "metadata": {},
   "outputs": [],
   "source": [
    "#colors it with loop\n",
    "for i in range(len(colors)):\n",
    "    barcode[:,i] = colors[i]"
   ]
  },
  {
   "cell_type": "raw",
   "metadata": {},
   "source": [
    "With iteration, value inside 'barcode' numpy array is replaced with color values from colors"
   ]
  },
  {
   "cell_type": "code",
   "execution_count": 21,
   "metadata": {},
   "outputs": [],
   "source": [
    "b, g, r = cv2.split(barcode)\n",
    "barcode2 = cv2.merge([r,g,b])\n",
    "barcode2 = barcode2.astype(np.uint8)"
   ]
  },
  {
   "cell_type": "raw",
   "metadata": {},
   "source": [
    "Since opencv runs color arrangement as bgr, an image convertion to rgb has to be made. \n",
    "Therefore using '.split()' we individually take apart the 3 color channels and reconfigure it with an rgb setting, defining it as 'barcode2'. \n",
    "Then a change in data type is needed within the numpy array to uint8 in order to display the output. "
   ]
  },
  {
   "cell_type": "code",
   "execution_count": 22,
   "metadata": {},
   "outputs": [
    {
     "data": {
      "image/png": "[encoded data removed]",
      "text/plain": [
       "<Figure size 432x288 with 1 Axes>"
      ]
     },
     "metadata": {
      "needs_background": "light"
     },
     "output_type": "display_data"
    }
   ],
   "source": [
    "plt.imshow(barcode2)\n",
    "plt.show()\n",
    "\n",
    "imageio.imwrite('highlight_center.png', barcode2)\n",
    "\n",
    "        "
   ]
  },
  {
   "cell_type": "raw",
   "metadata": {},
   "source": [
    "'plt.imshow(barcode2)' and 'plt.show()' pops up the image.\n",
    "The image is saved with imageio"
   ]
  },
  {
   "cell_type": "code",
   "execution_count": 23,
   "metadata": {},
   "outputs": [],
   "source": [
    "        \n",
    "\n",
    "      \n",
    "\n",
    "\n",
    "# When everything done, release the capture\n",
    "cap.release()\n",
    "cv2.destroyAllWindows()"
   ]
  }
 ],
 "metadata": {
  "kernelspec": {
   "display_name": "Python 3",
   "language": "python",
   "name": "python3"
  },
  "language_info": {
   "codemirror_mode": {
    "name": "ipython",
    "version": 3
   },
   "file_extension": ".py",
   "mimetype": "text/x-python",
   "name": "python",
   "nbconvert_exporter": "python",
   "pygments_lexer": "ipython3",
   "version": "3.6.8"
  }
 },
 "nbformat": 4,
 "nbformat_minor": 2
}
