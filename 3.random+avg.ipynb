{
 "cells": [
  {
   "cell_type": "markdown",
   "metadata": {},
   "source": [
    "Average color of randomly selected pixels"
   ]
  },
  {
   "cell_type": "code",
   "execution_count": 40,
   "metadata": {},
   "outputs": [],
   "source": [
    "import numpy as np\n",
    "import cv2\n",
    "import matplotlib.pyplot as plt\n",
    "import imageio\n",
    "import random"
   ]
  },
  {
   "cell_type": "markdown",
   "metadata": {},
   "source": [
    "Import modules"
   ]
  },
  {
   "cell_type": "code",
   "execution_count": null,
   "metadata": {},
   "outputs": [],
   "source": [
    "def getColor(frame):\n",
    "    height, width, depth = frame.shape\n",
    "    sample_num = height * width // 100 # 1 precent\n",
    "    frame_colors = []\n",
    "    for n in range(sample_num):\n",
    "        y = random.randint(0, int(height)-1)\n",
    "        x = random.randint(0, int(width)-1)\n",
    "     #   print(y,x)\n",
    "        color = frame[y,x]\n",
    "      #  print(color)\n",
    "        \n",
    "        frame_colors.append(color)\n",
    "   # print(frame_colors)\n",
    "    return frame_colors"
   ]
  },
  {
   "cell_type": "raw",
   "metadata": {},
   "source": [
    "'getColor(frame)' returns a randomly selected color from a frame.\n",
    "'frame.shape' returns height, width, depth value of a video.\n",
    "'sample_num' is the number of pixels equivalent to 1 percent of that of each frame. \n",
    "'frame_colors' is where the color is added.\n",
    "for loop generates randomly selected colors of each frame \n",
    "Randomly selected y and x gives 'frame[y,x]' a randomly selected color value in a frame as 'color'\n",
    "'color' is then appended to 'frame_colors' list."
   ]
  },
  {
   "cell_type": "code",
   "execution_count": 41,
   "metadata": {},
   "outputs": [],
   "source": [
    "def avrg(alist):\n",
    "    red_total = 0 \n",
    "    green_total = 0\n",
    "    blue_total = 0\n",
    "    for x in alist:\n",
    "        #print(x)\n",
    "        red = x[0] ; green = x[1] ; blue = x[2]\n",
    "        #print(red,green,blue)\n",
    "        red_total += red ; green_total += green ; blue_total += blue\n",
    "    red = red_total // len(alist)\n",
    "    green = green_total // len(alist)\n",
    "    blue = blue_total // len(alist)\n",
    "    return [red, green, blue]"
   ]
  },
  {
   "cell_type": "raw",
   "metadata": {},
   "source": [
    "'avrg(alist)' returns the average color of randomly selected colors per frame.\n",
    "'_total' is the total value of each r,g,b.\n",
    "Iterating through the given list(variable alist), we add all the values of red color to 'red_total' and so on for the other ones too.\n",
    "Then we calculate the average red green and blue by dividing."
   ]
  },
  {
   "cell_type": "code",
   "execution_count": null,
   "metadata": {},
   "outputs": [],
   "source": [
    "filename='C:\\\\Users\\\\Hanrabong\\\\DESKTOP\\\\highlight.mp4'\n",
    "cap = cv2.VideoCapture(filename) \n",
    "CList = []"
   ]
  },
  {
   "cell_type": "markdown",
   "metadata": {},
   "source": [
    "'filename' is the path of the video.\n",
    "'cv2.VideoCapture()' captures the video and is saved as cap\n",
    "Blank CList is where the colors of each frames will be added"
   ]
  },
  {
   "cell_type": "code",
   "execution_count": null,
   "metadata": {},
   "outputs": [],
   "source": [
    "while(True): \n",
    "    #print('hi')\n",
    "    ret, frame = cap.read()\n",
    "    #print('suc')\n",
    "    if ret == False:\n",
    "        break \n",
    "    \n",
    "  \n",
    "    CList.append(avrg(getColor(frame)))"
   ]
  },
  {
   "cell_type": "raw",
   "metadata": {},
   "source": [
    "'cap.read()' iterates through cap with a while loop. \n",
    "'ret' returns a boolean value; true if there still is a frame left and false if there aren't any frames left. 'frame' gives a numpy array data of a frame.\n",
    "When ret is false, it ends the loop because there aren't any frames left to iterate.\n",
    "If ret is true, 'getColor(frame)' returns a randomly selected color from the frame. Then it calls the 'avrg()' function and appends it to CList."
   ]
  },
  {
   "cell_type": "code",
   "execution_count": null,
   "metadata": {},
   "outputs": [],
   "source": [
    "cap.release()\n",
    "barcode = np.zeros((1000,len(CList),3)) "
   ]
  },
  {
   "cell_type": "markdown",
   "metadata": {},
   "source": [
    "'barcode' is a numpy array of a three demensional matrix; 1000 by length of CList a.k.a number of frames by 3 (rgb)."
   ]
  },
  {
   "cell_type": "code",
   "execution_count": 31,
   "metadata": {},
   "outputs": [],
   "source": [
    "for i in range(len(CList)):\n",
    "    barcode[:,i] = CList[i]"
   ]
  },
  {
   "cell_type": "raw",
   "metadata": {},
   "source": [
    "With iteration, value inside 'barcode' numpy array is replaced with color values from CList"
   ]
  },
  {
   "cell_type": "code",
   "execution_count": 32,
   "metadata": {},
   "outputs": [],
   "source": [
    "b, g, r = cv2.split(barcode)   \n",
    "barcode2 = cv2.merge([r,g,b]) \n",
    "barcode2 = barcode2.astype(np.uint8) "
   ]
  },
  {
   "cell_type": "raw",
   "metadata": {},
   "source": [
    "Since opencv runs color arrangement as bgr, an image convertion to rgb has to be made. \n",
    "Therefore using '.split()' we individually take apart the 3 color channels and reconfigure it with an rgb setting, defining it as 'barcode2'. \n",
    "Then a change in data type is needed within the numpy array to uint8 in order to display the output. "
   ]
  },
  {
   "cell_type": "code",
   "execution_count": 42,
   "metadata": {},
   "outputs": [
    {
     "data": {
      "image/png": "[encoded data removed]",
      "text/plain": [
       "<Figure size 432x288 with 1 Axes>"
      ]
     },
     "metadata": {
      "needs_background": "light"
     },
     "output_type": "display_data"
    }
   ],
   "source": [
    "plt.imshow(barcode)\n",
    "plt.show()\n",
    "\n",
    "imageio.imwrite('highlight_randomandavg.png', barcode)\n",
    "\n",
    "cv2.destroyAllWindows()\n"
   ]
  }
 ],
 "metadata": {
  "kernelspec": {
   "display_name": "Python 3",
   "language": "python",
   "name": "python3"
  },
  "language_info": {
   "codemirror_mode": {
    "name": "ipython",
    "version": 3
   },
   "file_extension": ".py",
   "mimetype": "text/x-python",
   "name": "python",
   "nbconvert_exporter": "python",
   "pygments_lexer": "ipython3",
   "version": "3.6.8"
  }
 },
 "nbformat": 4,
 "nbformat_minor": 2
}
